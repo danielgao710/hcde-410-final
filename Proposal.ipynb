{
 "cells": [
  {
   "cell_type": "markdown",
   "id": "a2b8800f-c044-4699-8643-4a3d6bd5c6c1",
   "metadata": {},
   "source": [
    "# Final Project Proposal"
   ]
  },
  {
   "cell_type": "markdown",
   "id": "701cec65-7294-48ec-834c-1c5bcf7386c8",
   "metadata": {},
   "source": [
    "## A Study of World Happiness Index"
   ]
  },
  {
   "cell_type": "markdown",
   "id": "1ce5980a-9f2e-4228-a0e0-cf3ea5e7036e",
   "metadata": {},
   "source": [
    "### Date"
   ]
  },
  {
   "cell_type": "markdown",
   "id": "67db47e7-f773-44a2-82a8-55fc08e863b3",
   "metadata": {},
   "source": [
    "April 29, 2022"
   ]
  },
  {
   "cell_type": "markdown",
   "id": "6e403812-5af1-4f3e-9b60-5b4baa773428",
   "metadata": {},
   "source": [
    "#### Abstract"
   ]
  },
  {
   "cell_type": "markdown",
   "id": "8348439f-5d13-4928-9ae0-0657b107876b",
   "metadata": {},
   "source": [
    "I am concerned about what factors affect the happiness index of the country because of the epidemic, and I want to know what factors the country should pay attention to in order to ensure the happiness and quality of life of its people. To address this question, I plan to study the happiness index and the six factors: economic production, social support, life expectancy, freedom, absence of corruption and generosity."
   ]
  },
  {
   "cell_type": "markdown",
   "id": "204bc46a-8753-437d-a22f-15c23f5d6805",
   "metadata": {},
   "source": [
    "#### Introduction  "
   ]
  },
  {
   "cell_type": "markdown",
   "id": "52fa4ec2-56f1-40cb-832b-8c1906d6808a",
   "metadata": {},
   "source": [
    "Due to the impact of the world's COVID-19 pandemic, many countries have issued epidemic prevention policies, and people's travel and life have been given a great hit. Under the epidemic, the happiness of many people around us has been affected both mentally and physically.\n",
    "In this project, I want to explore factors that play a role in the happiness index of the 158 countries in the dataset. By analyzing the data from 2015 to 2019, I want to obtain the relationship between six factors and happiness. I can use the analysis to grasp the essentials of improving the country's happiness index. Therefore, governments can stabilize the country's happiness index by improving various weak factors so that citizens can feel happier in their lives. Thus, the world can become a better place."
   ]
  },
  {
   "cell_type": "markdown",
   "id": "5dd15a1c-a51a-4e2d-acc2-714fe7212fad",
   "metadata": {},
   "source": [
    "#### Research Questions"
   ]
  },
  {
   "cell_type": "markdown",
   "id": "53773809-bc61-4471-9998-0bedcbafbacb",
   "metadata": {},
   "source": [
    "I wish to answer questions such as:\n",
    "- What are the similarities between countries that have high levels of happiness as opposed to countries that are relatively unhappy, as indicated by the index? \n",
    "- What countries or regions rank the highest in overall happiness and each of the six factors contributing to happiness? \n",
    "- How did the rankings or individual scores of a country change over time? \n",
    "- Did any country experience a significant increase or decrease in happiness, if so, what happened to the country during that time?"
   ]
  },
  {
   "cell_type": "markdown",
   "id": "178540b9-b57f-47c0-8b13-2b1d4037a959",
   "metadata": {},
   "source": [
    "#### Related Work"
   ]
  },
  {
   "cell_type": "markdown",
   "id": "eb87811b-3629-4e13-9725-aa7d035bc995",
   "metadata": {},
   "source": [
    "Happiness, in a broad sense, means that the mental or emotional state of a person feels satisfied to the point of intense pleasure in a positive or pleasant way. It is very personal and subjective. And the World Happiness Index (HI) defines a country's overall happiness index through a series of sub-indicators. Helliwell et al. in 2016 proposed seven indicators, which are:"
   ]
  },
  {
   "cell_type": "markdown",
   "id": "f1f65fb3-de3d-497e-9ad6-ba0ac7c1e97e",
   "metadata": {},
   "source": [
    "1. Economy: GDP per capita in terms of Purchasing Power Parity (PPP)\n",
    "2. Social Support: family, friends, etc.\n",
    "3. Healthy life expectancy\n",
    "4. Freedom: the freedom to face life choices\n",
    "5. Generosity: participation in donations and charitable activities\n",
    "6. Corruption: The extent to which there is corruption in the government and among industries\n",
    "7. Dystopia: the gap between the country and the hypothetical country Dystopia, which has the lowest average value of all indicators."
   ]
  },
  {
   "cell_type": "markdown",
   "id": "89bac858-0f38-41bc-9365-de08cde709f2",
   "metadata": {},
   "source": [
    "However, it is not entirely reasonable to derive a country's overall happiness index simply by adding up these sub-indicators. This is because there are compensating effects between the numbers (Munda 2008). For example, a country may have a relatively high level of corruption, but also a high per capita income, so the data for these two sub-indicators compensate for each other. In this case, the overall happiness index is no longer as convincing."
   ]
  },
  {
   "cell_type": "markdown",
   "id": "0753c33c-764f-4611-9a40-05db021fb309",
   "metadata": {},
   "source": [
    "#### The Dataset"
   ]
  },
  {
   "cell_type": "markdown",
   "id": "fd44632f-dd8f-465c-8167-1c2b81727e2c",
   "metadata": {},
   "source": [
    "The data was found on Kaggle and it’s about happiness scored according to economic production, social support, etc. The link is: https://www.kaggle.com/datasets/unsdsn/world-happiness. The data was collected by the Sustainable Development Solutions Network, the first version being released at the United Nations at an event celebrating International Day of Happiness on March 20th. The data was collected by using data from the Gallup World Poll, where scores on happiness and rankings are based on answers to the main life evaluation question (known as the Cantril ladder) asked in the poll. That question asks respondents to think of a ladder that represents the best possible life they can lead with 10 at the top and 0 at the bottom. The data was collected because there was a desire to discover what countries or regions rank the highest in overall happiness and each of the six factors contribute to happiness and how this may have changed between 2015 to 2019. There are 157 observations in each dataset. There are 13 features in each dataset. There are no ethical questions or questions of power that we need to consider when working with this data. Some possible limitations or problems with this data is that there are five separate datasets that will need to be either examined one by one, or combined into one dataset depending on what method fits my research question best."
   ]
  },
  {
   "cell_type": "markdown",
   "id": "03d3552b-b10e-4ae5-9cc7-8fa3ec055efb",
   "metadata": {},
   "source": [
    "#### Methodology"
   ]
  },
  {
   "cell_type": "markdown",
   "id": "af700b19-9f0f-4da8-89b5-7db3eb888d58",
   "metadata": {},
   "source": [
    "In order to find answers to the research questions and more about the happiness index, I will use several analytical methods. To learn the similarities between countries that have high levels of happiness as opposed to countries that are relatively unhappy, as indicated by the index, I would rank the countries by happiness index and calculate the average scores in different factors for the first and last 10 countries. By comparing the happiness index and its several factors of certain countries from 2015 to 2019, and combining the big events that happened to the countries, I will understand how and why the happiness index of certain countries change over time. By applying correlation or regression techniques to the happiness index and its factors and calculating the correlation coefficients, I can draw some conclusions on which factors and how they influence the happiness index."
   ]
  },
  {
   "cell_type": "markdown",
   "id": "c1ec8763-40b5-4321-8784-f0fcf6f7eb76",
   "metadata": {},
   "source": [
    "#### Implications"
   ]
  },
  {
   "cell_type": "markdown",
   "id": "919f014e-937c-4d29-b3a2-36e4067b602b",
   "metadata": {},
   "source": [
    "Finding answers to these questions could result in technologists having a better understanding of what they can do to help increase happiness in a given country. For instance, technological errors in the health sector, particularly in Electronic Health Records, are unfortunately a cause of many deaths that could have been prevented. If my findings, for example, reveal that life expectancy seems to have a significant correlation with happiness in a certain country, technologists and designers working in the healthcare sector could work to find ways to create and design online applications in a manner that ensures safety and limits the amount of technological errors made. Moreover, as policy makers can help make much needed changes, they can have a huge influence on decisions that are made in a given country. Finding out what factors have a greater effect on happiness could lead to policymakers having a better understanding of what they need to advocate for, and thus inform them on what they can do to increase their country’s happiness score."
   ]
  },
  {
   "cell_type": "markdown",
   "id": "f5146066-9276-42cc-aff9-9b8c3f2dcfa0",
   "metadata": {},
   "source": [
    "#### Unknowns and dependencies"
   ]
  },
  {
   "cell_type": "markdown",
   "id": "b582ab73-27e0-467e-9f0a-8f16015da9b9",
   "metadata": {},
   "source": [
    "My project uses different qualities and indicators of each country to measure their respective levels of happiness. Because happiness is such a subjective term, and is thus affected by so many different immeasurable factors, I may have trouble coming to a conclusion about which factors are most indicative of happiness. My project will have to address cultural influences and practices, regional differences, diversity, racial differences, and other indirect factors that may affect the overall happiness of each of these countries. Not only may these factors affect how happy people are, but also their definition of happiness. I will have to address this issue by creating a way to standardize the definition of happiness to the best of my ability and use that definition to account for each of these extraneous variables.\n",
    "\n",
    "Additionally, the latest dataset was collected in 2019. The state of the world and the global cultural experiences and references have significantly changed over the past 3 years, especially due to the influence of COVID-19. Factors that may have heavily contributed to overall happiness may have less of an influence now due to a higher need for improvement of another factor. I will have to account for the differences in time and adjust my conclusions from the data to fit the current state of the world."
   ]
  },
  {
   "cell_type": "markdown",
   "id": "c380c62b-4218-49ef-bf5c-dd4b3e3331a9",
   "metadata": {},
   "source": [
    "#### Related Works Cited"
   ]
  },
  {
   "cell_type": "markdown",
   "id": "6701c899-201b-45e4-b47a-ac97cdff7e9c",
   "metadata": {},
   "source": [
    "  Carlsen, L. Happiness as a sustainability factor. The world happiness index: a posetic-based data analysis. Sustain Sci 13, 549–571 (2018). https://doi-org.offcampus.lib.washington.edu/10.1007/s11625-017-0482-9\n",
    "\n",
    "  Helliwell JF, Huang H, Wang S (2016) The world happiness index, chapter 2: the distribution of world happiness. http://worldhappiness.report/wp-content/uploads/sites/2/2016/03/HR-V1Ch2_web.pdf.\n",
    "\n",
    "  Munda G (2008) Social multi-criteria evaluation for a sustainable economy (Operation, p. 227). Springer, New York. http://www.springer.com.offcampus.lib.washington.edu/us/book/9783540737025"
   ]
  }
 ],
 "metadata": {
  "kernelspec": {
   "display_name": "Python 3 (ipykernel)",
   "language": "python",
   "name": "python3"
  },
  "language_info": {
   "codemirror_mode": {
    "name": "ipython",
    "version": 3
   },
   "file_extension": ".py",
   "mimetype": "text/x-python",
   "name": "python",
   "nbconvert_exporter": "python",
   "pygments_lexer": "ipython3",
   "version": "3.9.7"
  }
 },
 "nbformat": 4,
 "nbformat_minor": 5
}
